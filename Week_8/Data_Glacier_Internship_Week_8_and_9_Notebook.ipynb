{
 "cells": [
  {
   "cell_type": "markdown",
   "id": "c7989e89",
   "metadata": {},
   "source": [
    "First, we begin by reading in the data:"
   ]
  },
  {
   "cell_type": "code",
   "execution_count": 4,
   "id": "16815625",
   "metadata": {},
   "outputs": [],
   "source": [
    "import pandas as pd\n",
    "import numpy as np\n",
    "#the file was converted to csv to make reading in easier\n",
    "df=pd.read_csv('Healthcare_dataset.csv', engine='python')"
   ]
  },
  {
   "cell_type": "code",
   "execution_count": 5,
   "id": "9e5183cc",
   "metadata": {},
   "outputs": [
    {
     "data": {
      "text/html": [
       "<div>\n",
       "<style scoped>\n",
       "    .dataframe tbody tr th:only-of-type {\n",
       "        vertical-align: middle;\n",
       "    }\n",
       "\n",
       "    .dataframe tbody tr th {\n",
       "        vertical-align: top;\n",
       "    }\n",
       "\n",
       "    .dataframe thead th {\n",
       "        text-align: right;\n",
       "    }\n",
       "</style>\n",
       "<table border=\"1\" class=\"dataframe\">\n",
       "  <thead>\n",
       "    <tr style=\"text-align: right;\">\n",
       "      <th></th>\n",
       "      <th>Ptid</th>\n",
       "      <th>Persistency_Flag</th>\n",
       "      <th>Gender</th>\n",
       "      <th>Race</th>\n",
       "      <th>Ethnicity</th>\n",
       "      <th>Region</th>\n",
       "      <th>Age_Bucket</th>\n",
       "      <th>Ntm_Speciality</th>\n",
       "      <th>Ntm_Specialist_Flag</th>\n",
       "      <th>Ntm_Speciality_Bucket</th>\n",
       "      <th>...</th>\n",
       "      <th>Risk_Family_History_Of_Osteoporosis</th>\n",
       "      <th>Risk_Low_Calcium_Intake</th>\n",
       "      <th>Risk_Vitamin_D_Insufficiency</th>\n",
       "      <th>Risk_Poor_Health_Frailty</th>\n",
       "      <th>Risk_Excessive_Thinness</th>\n",
       "      <th>Risk_Hysterectomy_Oophorectomy</th>\n",
       "      <th>Risk_Estrogen_Deficiency</th>\n",
       "      <th>Risk_Immobilization</th>\n",
       "      <th>Risk_Recurring_Falls</th>\n",
       "      <th>Count_Of_Risks</th>\n",
       "    </tr>\n",
       "  </thead>\n",
       "  <tbody>\n",
       "    <tr>\n",
       "      <th>0</th>\n",
       "      <td>P1</td>\n",
       "      <td>Persistent</td>\n",
       "      <td>Male</td>\n",
       "      <td>Caucasian</td>\n",
       "      <td>Not Hispanic</td>\n",
       "      <td>West</td>\n",
       "      <td>&gt;75</td>\n",
       "      <td>GENERAL PRACTITIONER</td>\n",
       "      <td>Others</td>\n",
       "      <td>OB/GYN/Others/PCP/Unknown</td>\n",
       "      <td>...</td>\n",
       "      <td>N</td>\n",
       "      <td>N</td>\n",
       "      <td>N</td>\n",
       "      <td>N</td>\n",
       "      <td>N</td>\n",
       "      <td>N</td>\n",
       "      <td>N</td>\n",
       "      <td>N</td>\n",
       "      <td>N</td>\n",
       "      <td>0</td>\n",
       "    </tr>\n",
       "    <tr>\n",
       "      <th>1</th>\n",
       "      <td>P2</td>\n",
       "      <td>Non-Persistent</td>\n",
       "      <td>Male</td>\n",
       "      <td>Asian</td>\n",
       "      <td>Not Hispanic</td>\n",
       "      <td>West</td>\n",
       "      <td>55-65</td>\n",
       "      <td>GENERAL PRACTITIONER</td>\n",
       "      <td>Others</td>\n",
       "      <td>OB/GYN/Others/PCP/Unknown</td>\n",
       "      <td>...</td>\n",
       "      <td>N</td>\n",
       "      <td>N</td>\n",
       "      <td>N</td>\n",
       "      <td>N</td>\n",
       "      <td>N</td>\n",
       "      <td>N</td>\n",
       "      <td>N</td>\n",
       "      <td>N</td>\n",
       "      <td>N</td>\n",
       "      <td>0</td>\n",
       "    </tr>\n",
       "    <tr>\n",
       "      <th>2</th>\n",
       "      <td>P3</td>\n",
       "      <td>Non-Persistent</td>\n",
       "      <td>Female</td>\n",
       "      <td>Other/Unknown</td>\n",
       "      <td>Hispanic</td>\n",
       "      <td>Midwest</td>\n",
       "      <td>65-75</td>\n",
       "      <td>GENERAL PRACTITIONER</td>\n",
       "      <td>Others</td>\n",
       "      <td>OB/GYN/Others/PCP/Unknown</td>\n",
       "      <td>...</td>\n",
       "      <td>N</td>\n",
       "      <td>Y</td>\n",
       "      <td>N</td>\n",
       "      <td>N</td>\n",
       "      <td>N</td>\n",
       "      <td>N</td>\n",
       "      <td>N</td>\n",
       "      <td>N</td>\n",
       "      <td>N</td>\n",
       "      <td>2</td>\n",
       "    </tr>\n",
       "    <tr>\n",
       "      <th>3</th>\n",
       "      <td>P4</td>\n",
       "      <td>Non-Persistent</td>\n",
       "      <td>Female</td>\n",
       "      <td>Caucasian</td>\n",
       "      <td>Not Hispanic</td>\n",
       "      <td>Midwest</td>\n",
       "      <td>&gt;75</td>\n",
       "      <td>GENERAL PRACTITIONER</td>\n",
       "      <td>Others</td>\n",
       "      <td>OB/GYN/Others/PCP/Unknown</td>\n",
       "      <td>...</td>\n",
       "      <td>N</td>\n",
       "      <td>N</td>\n",
       "      <td>N</td>\n",
       "      <td>N</td>\n",
       "      <td>N</td>\n",
       "      <td>N</td>\n",
       "      <td>N</td>\n",
       "      <td>N</td>\n",
       "      <td>N</td>\n",
       "      <td>1</td>\n",
       "    </tr>\n",
       "    <tr>\n",
       "      <th>4</th>\n",
       "      <td>P5</td>\n",
       "      <td>Non-Persistent</td>\n",
       "      <td>Female</td>\n",
       "      <td>Caucasian</td>\n",
       "      <td>Not Hispanic</td>\n",
       "      <td>Midwest</td>\n",
       "      <td>&gt;75</td>\n",
       "      <td>GENERAL PRACTITIONER</td>\n",
       "      <td>Others</td>\n",
       "      <td>OB/GYN/Others/PCP/Unknown</td>\n",
       "      <td>...</td>\n",
       "      <td>N</td>\n",
       "      <td>N</td>\n",
       "      <td>N</td>\n",
       "      <td>N</td>\n",
       "      <td>N</td>\n",
       "      <td>N</td>\n",
       "      <td>N</td>\n",
       "      <td>N</td>\n",
       "      <td>N</td>\n",
       "      <td>1</td>\n",
       "    </tr>\n",
       "  </tbody>\n",
       "</table>\n",
       "<p>5 rows × 69 columns</p>\n",
       "</div>"
      ],
      "text/plain": [
       "  Ptid Persistency_Flag  Gender           Race     Ethnicity   Region  \\\n",
       "0   P1       Persistent    Male      Caucasian  Not Hispanic     West   \n",
       "1   P2   Non-Persistent    Male          Asian  Not Hispanic     West   \n",
       "2   P3   Non-Persistent  Female  Other/Unknown      Hispanic  Midwest   \n",
       "3   P4   Non-Persistent  Female      Caucasian  Not Hispanic  Midwest   \n",
       "4   P5   Non-Persistent  Female      Caucasian  Not Hispanic  Midwest   \n",
       "\n",
       "  Age_Bucket        Ntm_Speciality Ntm_Specialist_Flag  \\\n",
       "0        >75  GENERAL PRACTITIONER              Others   \n",
       "1      55-65  GENERAL PRACTITIONER              Others   \n",
       "2      65-75  GENERAL PRACTITIONER              Others   \n",
       "3        >75  GENERAL PRACTITIONER              Others   \n",
       "4        >75  GENERAL PRACTITIONER              Others   \n",
       "\n",
       "       Ntm_Speciality_Bucket  ... Risk_Family_History_Of_Osteoporosis  \\\n",
       "0  OB/GYN/Others/PCP/Unknown  ...                                   N   \n",
       "1  OB/GYN/Others/PCP/Unknown  ...                                   N   \n",
       "2  OB/GYN/Others/PCP/Unknown  ...                                   N   \n",
       "3  OB/GYN/Others/PCP/Unknown  ...                                   N   \n",
       "4  OB/GYN/Others/PCP/Unknown  ...                                   N   \n",
       "\n",
       "  Risk_Low_Calcium_Intake  Risk_Vitamin_D_Insufficiency  \\\n",
       "0                       N                             N   \n",
       "1                       N                             N   \n",
       "2                       Y                             N   \n",
       "3                       N                             N   \n",
       "4                       N                             N   \n",
       "\n",
       "  Risk_Poor_Health_Frailty Risk_Excessive_Thinness  \\\n",
       "0                        N                       N   \n",
       "1                        N                       N   \n",
       "2                        N                       N   \n",
       "3                        N                       N   \n",
       "4                        N                       N   \n",
       "\n",
       "  Risk_Hysterectomy_Oophorectomy Risk_Estrogen_Deficiency Risk_Immobilization  \\\n",
       "0                              N                        N                   N   \n",
       "1                              N                        N                   N   \n",
       "2                              N                        N                   N   \n",
       "3                              N                        N                   N   \n",
       "4                              N                        N                   N   \n",
       "\n",
       "  Risk_Recurring_Falls Count_Of_Risks  \n",
       "0                    N              0  \n",
       "1                    N              0  \n",
       "2                    N              2  \n",
       "3                    N              1  \n",
       "4                    N              1  \n",
       "\n",
       "[5 rows x 69 columns]"
      ]
     },
     "execution_count": 5,
     "metadata": {},
     "output_type": "execute_result"
    }
   ],
   "source": [
    "df.head()"
   ]
  },
  {
   "cell_type": "markdown",
   "id": "c5f01a2e",
   "metadata": {},
   "source": [
    "Get an overview of the dataset:"
   ]
  },
  {
   "cell_type": "code",
   "execution_count": 6,
   "id": "932d2d8e",
   "metadata": {
    "scrolled": true
   },
   "outputs": [
    {
     "name": "stdout",
     "output_type": "stream",
     "text": [
      "<class 'pandas.core.frame.DataFrame'>\n",
      "RangeIndex: 3424 entries, 0 to 3423\n",
      "Data columns (total 69 columns):\n",
      " #   Column                                                              Non-Null Count  Dtype \n",
      "---  ------                                                              --------------  ----- \n",
      " 0   Ptid                                                                3424 non-null   object\n",
      " 1   Persistency_Flag                                                    3424 non-null   object\n",
      " 2   Gender                                                              3424 non-null   object\n",
      " 3   Race                                                                3424 non-null   object\n",
      " 4   Ethnicity                                                           3424 non-null   object\n",
      " 5   Region                                                              3424 non-null   object\n",
      " 6   Age_Bucket                                                          3424 non-null   object\n",
      " 7   Ntm_Speciality                                                      3424 non-null   object\n",
      " 8   Ntm_Specialist_Flag                                                 3424 non-null   object\n",
      " 9   Ntm_Speciality_Bucket                                               3424 non-null   object\n",
      " 10  Gluco_Record_Prior_Ntm                                              3424 non-null   object\n",
      " 11  Gluco_Record_During_Rx                                              3424 non-null   object\n",
      " 12  Dexa_Freq_During_Rx                                                 3424 non-null   int64 \n",
      " 13  Dexa_During_Rx                                                      3424 non-null   object\n",
      " 14  Frag_Frac_Prior_Ntm                                                 3424 non-null   object\n",
      " 15  Frag_Frac_During_Rx                                                 3424 non-null   object\n",
      " 16  Risk_Segment_Prior_Ntm                                              3424 non-null   object\n",
      " 17  Tscore_Bucket_Prior_Ntm                                             3424 non-null   object\n",
      " 18  Risk_Segment_During_Rx                                              3424 non-null   object\n",
      " 19  Tscore_Bucket_During_Rx                                             3424 non-null   object\n",
      " 20  Change_T_Score                                                      3424 non-null   object\n",
      " 21  Change_Risk_Segment                                                 3424 non-null   object\n",
      " 22  Adherent_Flag                                                       3424 non-null   object\n",
      " 23  Idn_Indicator                                                       3424 non-null   object\n",
      " 24  Injectable_Experience_During_Rx                                     3424 non-null   object\n",
      " 25  Comorb_Encounter_For_Screening_For_Malignant_Neoplasms              3424 non-null   object\n",
      " 26  Comorb_Encounter_For_Immunization                                   3424 non-null   object\n",
      " 27  Comorb_Encntr_For_General_Exam_W_O_Complaint,_Susp_Or_Reprtd_Dx     3424 non-null   object\n",
      " 28  Comorb_Vitamin_D_Deficiency                                         3424 non-null   object\n",
      " 29  Comorb_Other_Joint_Disorder_Not_Elsewhere_Classified                3424 non-null   object\n",
      " 30  Comorb_Encntr_For_Oth_Sp_Exam_W_O_Complaint_Suspected_Or_Reprtd_Dx  3424 non-null   object\n",
      " 31  Comorb_Long_Term_Current_Drug_Therapy                               3424 non-null   object\n",
      " 32  Comorb_Dorsalgia                                                    3424 non-null   object\n",
      " 33  Comorb_Personal_History_Of_Other_Diseases_And_Conditions            3424 non-null   object\n",
      " 34  Comorb_Other_Disorders_Of_Bone_Density_And_Structure                3424 non-null   object\n",
      " 35  Comorb_Disorders_of_lipoprotein_metabolism_and_other_lipidemias     3424 non-null   object\n",
      " 36  Comorb_Osteoporosis_without_current_pathological_fracture           3424 non-null   object\n",
      " 37  Comorb_Personal_history_of_malignant_neoplasm                       3424 non-null   object\n",
      " 38  Comorb_Gastro_esophageal_reflux_disease                             3424 non-null   object\n",
      " 39  Concom_Cholesterol_And_Triglyceride_Regulating_Preparations         3424 non-null   object\n",
      " 40  Concom_Narcotics                                                    3424 non-null   object\n",
      " 41  Concom_Systemic_Corticosteroids_Plain                               3424 non-null   object\n",
      " 42  Concom_Anti_Depressants_And_Mood_Stabilisers                        3424 non-null   object\n",
      " 43  Concom_Fluoroquinolones                                             3424 non-null   object\n",
      " 44  Concom_Cephalosporins                                               3424 non-null   object\n",
      " 45  Concom_Macrolides_And_Similar_Types                                 3424 non-null   object\n",
      " 46  Concom_Broad_Spectrum_Penicillins                                   3424 non-null   object\n",
      " 47  Concom_Anaesthetics_General                                         3424 non-null   object\n",
      " 48  Concom_Viral_Vaccines                                               3424 non-null   object\n",
      " 49  Risk_Type_1_Insulin_Dependent_Diabetes                              3424 non-null   object\n",
      " 50  Risk_Osteogenesis_Imperfecta                                        3424 non-null   object\n",
      " 51  Risk_Rheumatoid_Arthritis                                           3424 non-null   object\n",
      " 52  Risk_Untreated_Chronic_Hyperthyroidism                              3424 non-null   object\n",
      " 53  Risk_Untreated_Chronic_Hypogonadism                                 3424 non-null   object\n",
      " 54  Risk_Untreated_Early_Menopause                                      3424 non-null   object\n",
      " 55  Risk_Patient_Parent_Fractured_Their_Hip                             3424 non-null   object\n",
      " 56  Risk_Smoking_Tobacco                                                3424 non-null   object\n",
      " 57  Risk_Chronic_Malnutrition_Or_Malabsorption                          3424 non-null   object\n",
      " 58  Risk_Chronic_Liver_Disease                                          3424 non-null   object\n",
      " 59  Risk_Family_History_Of_Osteoporosis                                 3424 non-null   object\n",
      " 60  Risk_Low_Calcium_Intake                                             3424 non-null   object\n",
      " 61  Risk_Vitamin_D_Insufficiency                                        3424 non-null   object\n",
      " 62  Risk_Poor_Health_Frailty                                            3424 non-null   object\n",
      " 63  Risk_Excessive_Thinness                                             3424 non-null   object\n",
      " 64  Risk_Hysterectomy_Oophorectomy                                      3424 non-null   object\n",
      " 65  Risk_Estrogen_Deficiency                                            3424 non-null   object\n",
      " 66  Risk_Immobilization                                                 3424 non-null   object\n",
      " 67  Risk_Recurring_Falls                                                3424 non-null   object\n",
      " 68  Count_Of_Risks                                                      3424 non-null   int64 \n",
      "dtypes: int64(2), object(67)\n",
      "memory usage: 1.8+ MB\n",
      "None\n"
     ]
    }
   ],
   "source": [
    "print(df.info(verbose=True)) #check number of columns and rows, and the data types"
   ]
  },
  {
   "cell_type": "markdown",
   "id": "ab807c6c",
   "metadata": {},
   "source": [
    "We see that there are only two numerical variables, Dexa_Freq_During_Rx and Count_Of_Risks "
   ]
  },
  {
   "cell_type": "markdown",
   "id": "778a00d0",
   "metadata": {},
   "source": [
    "Check for missing values:"
   ]
  },
  {
   "cell_type": "code",
   "execution_count": 7,
   "id": "8d32bad1",
   "metadata": {},
   "outputs": [
    {
     "name": "stdout",
     "output_type": "stream",
     "text": [
      "0\n"
     ]
    }
   ],
   "source": [
    "print(df.isna().sum().sum()) #check for NA values"
   ]
  },
  {
   "cell_type": "markdown",
   "id": "46ac7f2a",
   "metadata": {},
   "source": [
    "The maximum number of NA values in any column is 0, so there are no missing values"
   ]
  },
  {
   "cell_type": "markdown",
   "id": "ecb7a5ac",
   "metadata": {},
   "source": [
    "Let's identify duplicates:"
   ]
  },
  {
   "cell_type": "code",
   "execution_count": 8,
   "id": "324b0cd9",
   "metadata": {},
   "outputs": [
    {
     "data": {
      "text/plain": [
       "0"
      ]
     },
     "execution_count": 8,
     "metadata": {},
     "output_type": "execute_result"
    }
   ],
   "source": [
    "df.duplicated().sum()"
   ]
  },
  {
   "cell_type": "markdown",
   "id": "092c8d24",
   "metadata": {},
   "source": [
    "There are no duplicates"
   ]
  },
  {
   "cell_type": "markdown",
   "id": "d6fd7995",
   "metadata": {},
   "source": [
    "Let's modify the Age_Bucket column so that it will be easier to work with. We divide the classes into <55 (0) and and >=55(1) to compare younger and older people:"
   ]
  },
  {
   "cell_type": "code",
   "execution_count": 9,
   "id": "936e306d",
   "metadata": {},
   "outputs": [],
   "source": [
    "df[\"Age_Bucket\"].replace(\"<55\",\"0\",inplace=True)   \n",
    "df[\"Age_Bucket\"].replace(\"55-65\",\"1\",inplace=True)   \n",
    "df[\"Age_Bucket\"].replace(\"65-75\",\"1\",inplace=True) \n",
    "df[\"Age_Bucket\"].replace(\">75\",\"1\",inplace=True) "
   ]
  },
  {
   "cell_type": "markdown",
   "id": "b22e183b",
   "metadata": {},
   "source": [
    "We found that most of the features in the dataset are categorical (or can be treated as categorical due to the low number of unique values within the column), and there were no missing values."
   ]
  },
  {
   "cell_type": "markdown",
   "id": "249513a3",
   "metadata": {},
   "source": [
    "Let's check the value counts for the categorical features:"
   ]
  },
  {
   "cell_type": "code",
   "execution_count": 10,
   "id": "85699b5f",
   "metadata": {},
   "outputs": [
    {
     "name": "stdout",
     "output_type": "stream",
     "text": [
      "Non-Persistent    2135\n",
      "Persistent        1289\n",
      "Name: Persistency_Flag, dtype: int64\n",
      "Female    3230\n",
      "Male       194\n",
      "Name: Gender, dtype: int64\n",
      "Caucasian           3148\n",
      "Other/Unknown         97\n",
      "African American      95\n",
      "Asian                 84\n",
      "Name: Race, dtype: int64\n",
      "Not Hispanic    3235\n",
      "Hispanic          98\n",
      "Unknown           91\n",
      "Name: Ethnicity, dtype: int64\n",
      "Midwest          1383\n",
      "South            1247\n",
      "West              502\n",
      "Northeast         232\n",
      "Other/Unknown      60\n",
      "Name: Region, dtype: int64\n",
      "GENERAL PRACTITIONER                                              1535\n",
      "RHEUMATOLOGY                                                       604\n",
      "ENDOCRINOLOGY                                                      458\n",
      "Unknown                                                            310\n",
      "ONCOLOGY                                                           225\n",
      "OBSTETRICS AND GYNECOLOGY                                           90\n",
      "UROLOGY                                                             33\n",
      "ORTHOPEDIC SURGERY                                                  30\n",
      "CARDIOLOGY                                                          22\n",
      "PATHOLOGY                                                           16\n",
      "HEMATOLOGY & ONCOLOGY                                               14\n",
      "OTOLARYNGOLOGY                                                      14\n",
      "PEDIATRICS                                                          13\n",
      "PHYSICAL MEDICINE AND REHABILITATION                                11\n",
      "PULMONARY MEDICINE                                                   8\n",
      "SURGERY AND SURGICAL SPECIALTIES                                     8\n",
      "PSYCHIATRY AND NEUROLOGY                                             4\n",
      "NEPHROLOGY                                                           3\n",
      "ORTHOPEDICS                                                          3\n",
      "PLASTIC SURGERY                                                      2\n",
      "VASCULAR SURGERY                                                     2\n",
      "HOSPICE AND PALLIATIVE MEDICINE                                      2\n",
      "GERIATRIC MEDICINE                                                   2\n",
      "GASTROENTEROLOGY                                                     2\n",
      "TRANSPLANT SURGERY                                                   2\n",
      "CLINICAL NURSE SPECIALIST                                            1\n",
      "OCCUPATIONAL MEDICINE                                                1\n",
      "HOSPITAL MEDICINE                                                    1\n",
      "OPHTHALMOLOGY                                                        1\n",
      "PODIATRY                                                             1\n",
      "EMERGENCY MEDICINE                                                   1\n",
      "RADIOLOGY                                                            1\n",
      "OBSTETRICS & OBSTETRICS & GYNECOLOGY & OBSTETRICS & GYNECOLOGY       1\n",
      "NEUROLOGY                                                            1\n",
      "PAIN MEDICINE                                                        1\n",
      "NUCLEAR MEDICINE                                                     1\n",
      "Name: Ntm_Speciality, dtype: int64\n",
      "Others        2013\n",
      "Specialist    1411\n",
      "Name: Ntm_Specialist_Flag, dtype: int64\n",
      "OB/GYN/Others/PCP/Unknown    2104\n",
      "Endo/Onc/Uro                  716\n",
      "Rheum                         604\n",
      "Name: Ntm_Speciality_Bucket, dtype: int64\n",
      "N    2619\n",
      "Y     805\n",
      "Name: Gluco_Record_Prior_Ntm, dtype: int64\n",
      "N    2522\n",
      "Y     902\n",
      "Name: Gluco_Record_During_Rx, dtype: int64\n",
      "N    2488\n",
      "Y     936\n",
      "Name: Dexa_During_Rx, dtype: int64\n",
      "N    2872\n",
      "Y     552\n",
      "Name: Frag_Frac_Prior_Ntm, dtype: int64\n",
      "N    3007\n",
      "Y     417\n",
      "Name: Frag_Frac_During_Rx, dtype: int64\n",
      "VLR_LR    1931\n",
      "HR_VHR    1493\n",
      "Name: Risk_Segment_Prior_Ntm, dtype: int64\n",
      ">-2.5     1951\n",
      "<=-2.5    1473\n",
      "Name: Tscore_Bucket_Prior_Ntm, dtype: int64\n",
      "Unknown    1497\n",
      "HR_VHR      965\n",
      "VLR_LR      962\n",
      "Name: Risk_Segment_During_Rx, dtype: int64\n",
      "Unknown    1497\n",
      "<=-2.5     1017\n",
      ">-2.5       910\n",
      "Name: Tscore_Bucket_During_Rx, dtype: int64\n",
      "No change    1660\n",
      "Unknown      1497\n",
      "Worsened      173\n",
      "Improved       94\n",
      "Name: Change_T_Score, dtype: int64\n",
      "Unknown      2229\n",
      "No change    1052\n",
      "Worsened      121\n",
      "Improved       22\n",
      "Name: Change_Risk_Segment, dtype: int64\n",
      "Adherent        3251\n",
      "Non-Adherent     173\n",
      "Name: Adherent_Flag, dtype: int64\n",
      "Y    2557\n",
      "N     867\n",
      "Name: Idn_Indicator, dtype: int64\n",
      "Y    3056\n",
      "N     368\n",
      "Name: Injectable_Experience_During_Rx, dtype: int64\n",
      "N    1891\n",
      "Y    1533\n",
      "Name: Comorb_Encounter_For_Screening_For_Malignant_Neoplasms, dtype: int64\n",
      "N    1911\n",
      "Y    1513\n",
      "Name: Comorb_Encounter_For_Immunization, dtype: int64\n",
      "N    2072\n",
      "Y    1352\n",
      "Name: Comorb_Encntr_For_General_Exam_W_O_Complaint,_Susp_Or_Reprtd_Dx, dtype: int64\n",
      "N    2331\n",
      "Y    1093\n",
      "Name: Comorb_Vitamin_D_Deficiency, dtype: int64\n",
      "N    2425\n",
      "Y     999\n",
      "Name: Comorb_Other_Joint_Disorder_Not_Elsewhere_Classified, dtype: int64\n",
      "N    2633\n",
      "Y     791\n",
      "Name: Comorb_Encntr_For_Oth_Sp_Exam_W_O_Complaint_Suspected_Or_Reprtd_Dx, dtype: int64\n",
      "N    2607\n",
      "Y     817\n",
      "Name: Comorb_Long_Term_Current_Drug_Therapy, dtype: int64\n",
      "N    2645\n",
      "Y     779\n",
      "Name: Comorb_Dorsalgia, dtype: int64\n",
      "N    2747\n",
      "Y     677\n",
      "Name: Comorb_Personal_History_Of_Other_Diseases_And_Conditions, dtype: int64\n",
      "N    2906\n",
      "Y     518\n",
      "Name: Comorb_Other_Disorders_Of_Bone_Density_And_Structure, dtype: int64\n",
      "Y    1765\n",
      "N    1659\n",
      "Name: Comorb_Disorders_of_lipoprotein_metabolism_and_other_lipidemias, dtype: int64\n",
      "N    2507\n",
      "Y     917\n",
      "Name: Comorb_Osteoporosis_without_current_pathological_fracture, dtype: int64\n",
      "N    2775\n",
      "Y     649\n",
      "Name: Comorb_Personal_history_of_malignant_neoplasm, dtype: int64\n",
      "N    2794\n",
      "Y     630\n",
      "Name: Comorb_Gastro_esophageal_reflux_disease, dtype: int64\n",
      "N    2242\n",
      "Y    1182\n",
      "Name: Concom_Cholesterol_And_Triglyceride_Regulating_Preparations, dtype: int64\n",
      "N    2191\n",
      "Y    1233\n",
      "Name: Concom_Narcotics, dtype: int64\n",
      "N    2451\n",
      "Y     973\n",
      "Name: Concom_Systemic_Corticosteroids_Plain, dtype: int64\n",
      "N    2465\n",
      "Y     959\n",
      "Name: Concom_Anti_Depressants_And_Mood_Stabilisers, dtype: int64\n",
      "N    2787\n",
      "Y     637\n",
      "Name: Concom_Fluoroquinolones, dtype: int64\n",
      "N    2821\n",
      "Y     603\n",
      "Name: Concom_Cephalosporins, dtype: int64\n",
      "N    2853\n",
      "Y     571\n",
      "Name: Concom_Macrolides_And_Similar_Types, dtype: int64\n",
      "N    2985\n",
      "Y     439\n",
      "Name: Concom_Broad_Spectrum_Penicillins, dtype: int64\n",
      "N    2927\n",
      "Y     497\n",
      "Name: Concom_Anaesthetics_General, dtype: int64\n",
      "N    3071\n",
      "Y     353\n",
      "Name: Concom_Viral_Vaccines, dtype: int64\n",
      "N    3285\n",
      "Y     139\n",
      "Name: Risk_Type_1_Insulin_Dependent_Diabetes, dtype: int64\n",
      "N    3421\n",
      "Y       3\n",
      "Name: Risk_Osteogenesis_Imperfecta, dtype: int64\n",
      "N    3294\n",
      "Y     130\n",
      "Name: Risk_Rheumatoid_Arthritis, dtype: int64\n",
      "N    3422\n",
      "Y       2\n",
      "Name: Risk_Untreated_Chronic_Hyperthyroidism, dtype: int64\n",
      "N    3297\n",
      "Y     127\n",
      "Name: Risk_Untreated_Chronic_Hypogonadism, dtype: int64\n",
      "N    3412\n",
      "Y      12\n",
      "Name: Risk_Untreated_Early_Menopause, dtype: int64\n",
      "N    3168\n",
      "Y     256\n",
      "Name: Risk_Patient_Parent_Fractured_Their_Hip, dtype: int64\n",
      "N    2780\n",
      "Y     644\n",
      "Name: Risk_Smoking_Tobacco, dtype: int64\n",
      "N    2954\n",
      "Y     470\n",
      "Name: Risk_Chronic_Malnutrition_Or_Malabsorption, dtype: int64\n",
      "N    3406\n",
      "Y      18\n",
      "Name: Risk_Chronic_Liver_Disease, dtype: int64\n",
      "N    3066\n",
      "Y     358\n",
      "Name: Risk_Family_History_Of_Osteoporosis, dtype: int64\n",
      "N    3382\n",
      "Y      42\n",
      "Name: Risk_Low_Calcium_Intake, dtype: int64\n",
      "N    1788\n",
      "Y    1636\n",
      "Name: Risk_Vitamin_D_Insufficiency, dtype: int64\n",
      "N    3232\n",
      "Y     192\n",
      "Name: Risk_Poor_Health_Frailty, dtype: int64\n",
      "N    3357\n",
      "Y      67\n",
      "Name: Risk_Excessive_Thinness, dtype: int64\n",
      "N    3370\n",
      "Y      54\n",
      "Name: Risk_Hysterectomy_Oophorectomy, dtype: int64\n",
      "N    3413\n",
      "Y      11\n",
      "Name: Risk_Estrogen_Deficiency, dtype: int64\n",
      "N    3410\n",
      "Y      14\n",
      "Name: Risk_Immobilization, dtype: int64\n",
      "N    3355\n",
      "Y      69\n",
      "Name: Risk_Recurring_Falls, dtype: int64\n"
     ]
    }
   ],
   "source": [
    "vc_cols=[i for i in df.columns if i not in ['Ptid','Count_Of_Risks','Dexa_Freq_During_Rx','Age_Bucket']]\n",
    "\n",
    "for i in vc_cols:\n",
    "    vc=df[i].value_counts()\n",
    "    print(vc)"
   ]
  },
  {
   "cell_type": "markdown",
   "id": "d05ccacc",
   "metadata": {},
   "source": [
    "We see that some of the classes are imbalanced / skewed. For example there are only 194 males and 3230 females in the dataset. The vast majority of the patients are caucasian (3148 compared to 97, 95, 84), but that might be expected for the country the data was collected in. The regions are reasonably balanced. We see that the age ranges are mostly for older patients (~ 3300 55+ patients and only 166 patients aged <55. With regards to the specialist type, some specialisms are almost non-existent (e.g., radiology, podiatry, opthamology and some others only have 1 entry in the dataset). For most variables, there is a realistic-looking distribution for the classes. Some classes may have poor representation due to the circumstances / environment under which the data was collected, which is not a cause for concern. "
   ]
  },
  {
   "cell_type": "markdown",
   "id": "857e6b51",
   "metadata": {},
   "source": [
    "Let's create some box plots to check the outliers for numerical variables:"
   ]
  },
  {
   "cell_type": "code",
   "execution_count": 11,
   "id": "1a5bb9dd",
   "metadata": {},
   "outputs": [],
   "source": [
    "import seaborn as sns"
   ]
  },
  {
   "cell_type": "markdown",
   "id": "56bc224e",
   "metadata": {},
   "source": [
    "Let's make a boxplot for the Count_Of_Risks variable:"
   ]
  },
  {
   "cell_type": "code",
   "execution_count": 12,
   "id": "0654475b",
   "metadata": {},
   "outputs": [
    {
     "data": {
      "text/plain": [
       "<AxesSubplot:xlabel='Count_Of_Risks'>"
      ]
     },
     "execution_count": 12,
     "metadata": {},
     "output_type": "execute_result"
    },
    {
     "data": {
      "image/png": "[encoded data removed]",
      "text/plain": [
       "<Figure size 432x288 with 1 Axes>"
      ]
     },
     "metadata": {
      "needs_background": "light"
     },
     "output_type": "display_data"
    }
   ],
   "source": [
    "sns.boxplot(x=df[\"Count_Of_Risks\"])"
   ]
  },
  {
   "cell_type": "markdown",
   "id": "695e8408",
   "metadata": {},
   "source": [
    "Let's check the number of outliers for the Count_Of_Risks variable:"
   ]
  },
  {
   "cell_type": "code",
   "execution_count": 13,
   "id": "fd081eba",
   "metadata": {},
   "outputs": [
    {
     "name": "stdout",
     "output_type": "stream",
     "text": [
      "8\n"
     ]
    }
   ],
   "source": [
    "print(sum(df[\"Count_Of_Risks\"]>=6))"
   ]
  },
  {
   "cell_type": "markdown",
   "id": "9ebe7942",
   "metadata": {},
   "source": [
    "There are only 8 outliers in total for Count_Of_Risks in the dataset, and these values (6 and 7) are not astronomically high and probably weren't caused by input errors. These values can be found by using the risk variables."
   ]
  },
  {
   "cell_type": "code",
   "execution_count": 14,
   "id": "bbf78f4a",
   "metadata": {},
   "outputs": [
    {
     "data": {
      "text/plain": [
       "<AxesSubplot:xlabel='Dexa_Freq_During_Rx'>"
      ]
     },
     "execution_count": 14,
     "metadata": {},
     "output_type": "execute_result"
    },
    {
     "data": {
      "image/png": "[encoded data removed]",
      "text/plain": [
       "<Figure size 432x288 with 1 Axes>"
      ]
     },
     "metadata": {
      "needs_background": "light"
     },
     "output_type": "display_data"
    }
   ],
   "source": [
    "sns.boxplot(x=df['Dexa_Freq_During_Rx'])"
   ]
  },
  {
   "cell_type": "markdown",
   "id": "17e20e50",
   "metadata": {},
   "source": [
    "A box plot may not be useful for finding outliers for the Dexa_Freq_During_Rx variable. This is because there are a very high number of values of 0s in the dataset, which results in the mean being very low, so even reasonably low values are treated as outliers. We don't have a strong reason to believe that removing any values would be beneficial in our analysis, or that they were input errors. "
   ]
  },
  {
   "cell_type": "markdown",
   "id": "20525555",
   "metadata": {},
   "source": [
    "Let's make dummy variables and drop the original variables to make the categorical variables easier to work with:"
   ]
  },
  {
   "cell_type": "code",
   "execution_count": 15,
   "id": "e641d179",
   "metadata": {},
   "outputs": [],
   "source": [
    "#make dummy variables for each category:\n",
    "dummies=[i for i in df.columns if i not in ['Ptid','Count_Of_Risks','Dexa_Freq_During_Rx', 'Age_Bucket']]\n",
    "\n",
    "df = pd.get_dummies(df, columns=dummies, drop_first=True)"
   ]
  },
  {
   "cell_type": "markdown",
   "id": "3bf198a8",
   "metadata": {},
   "source": [
    "Remove the Ps in the Ptid variable. This variable is the index:"
   ]
  },
  {
   "cell_type": "code",
   "execution_count": 16,
   "id": "541818b3",
   "metadata": {},
   "outputs": [],
   "source": [
    "df[\"Ptid\"].replace(\"P\",\"\",inplace=True,regex=True)     "
   ]
  },
  {
   "cell_type": "markdown",
   "id": "20ebcc3b",
   "metadata": {},
   "source": [
    "Ensure the datatypes are easy to work with for modelling etc:"
   ]
  },
  {
   "cell_type": "code",
   "execution_count": 17,
   "id": "0692a721",
   "metadata": {},
   "outputs": [],
   "source": [
    "df=df.astype(float)\n",
    "df.columns = df.columns.astype(str)"
   ]
  },
  {
   "cell_type": "markdown",
   "id": "2222963f",
   "metadata": {},
   "source": [
    "Check the normality of the numerical variables:"
   ]
  },
  {
   "cell_type": "code",
   "execution_count": 18,
   "id": "4f48d577",
   "metadata": {},
   "outputs": [],
   "source": [
    "import matplotlib.pyplot as plt"
   ]
  },
  {
   "cell_type": "code",
   "execution_count": 19,
   "id": "a1558681",
   "metadata": {},
   "outputs": [
    {
     "data": {
      "text/plain": [
       "(array([ 970., 1242.,  781.,    0.,  317.,   91.,    0.,   15.,    6.,\n",
       "           2.]),\n",
       " array([0. , 0.7, 1.4, 2.1, 2.8, 3.5, 4.2, 4.9, 5.6, 6.3, 7. ]),\n",
       " <BarContainer object of 10 artists>)"
      ]
     },
     "execution_count": 19,
     "metadata": {},
     "output_type": "execute_result"
    },
    {
     "data": {
      "image/png": "[encoded data removed]",
      "text/plain": [
       "<Figure size 432x288 with 1 Axes>"
      ]
     },
     "metadata": {
      "needs_background": "light"
     },
     "output_type": "display_data"
    }
   ],
   "source": [
    "plt.hist(df[\"Count_Of_Risks\"])"
   ]
  },
  {
   "cell_type": "code",
   "execution_count": 20,
   "id": "e8aebc24",
   "metadata": {},
   "outputs": [
    {
     "data": {
      "text/plain": [
       "(array([3.261e+03, 1.140e+02, 2.800e+01, 1.000e+01, 4.000e+00, 1.000e+00,\n",
       "        2.000e+00, 2.000e+00, 1.000e+00, 1.000e+00]),\n",
       " array([  0. ,  14.6,  29.2,  43.8,  58.4,  73. ,  87.6, 102.2, 116.8,\n",
       "        131.4, 146. ]),\n",
       " <BarContainer object of 10 artists>)"
      ]
     },
     "execution_count": 20,
     "metadata": {},
     "output_type": "execute_result"
    },
    {
     "data": {
      "image/png": "[encoded data removed]",
      "text/plain": [
       "<Figure size 432x288 with 1 Axes>"
      ]
     },
     "metadata": {
      "needs_background": "light"
     },
     "output_type": "display_data"
    }
   ],
   "source": [
    "plt.hist(df[\"Dexa_Freq_During_Rx\"])"
   ]
  },
  {
   "cell_type": "markdown",
   "id": "0530122d",
   "metadata": {},
   "source": [
    "Let's scale the data. The numerical variables don't follow a normal distribution, so let's use MinMaxScaler (to normalise it) instead of StandardScaler for scaling:"
   ]
  },
  {
   "cell_type": "code",
   "execution_count": 21,
   "id": "a68d2929",
   "metadata": {},
   "outputs": [],
   "source": [
    "from sklearn.preprocessing import MinMaxScaler\n",
    "mms=MinMaxScaler()\n",
    "df[[\"Count_Of_Risks\", \"Dexa_Freq_During_Rx\"]] = mms.fit_transform(df[[\"Count_Of_Risks\", \"Dexa_Freq_During_Rx\"]])"
   ]
  },
  {
   "cell_type": "code",
   "execution_count": 22,
   "id": "296abaef",
   "metadata": {},
   "outputs": [
    {
     "data": {
      "text/plain": [
       "0.17706942590120453"
      ]
     },
     "execution_count": 22,
     "metadata": {},
     "output_type": "execute_result"
    }
   ],
   "source": [
    "df[\"Count_Of_Risks\"].mean()"
   ]
  },
  {
   "cell_type": "markdown",
   "id": "65612a4a",
   "metadata": {},
   "source": [
    "Although my intuition says that removing outliers isn't helpful, let's remove all the outliers (all values which deviate by more than 3 standard deviations from the mean), and see if this will improve model performance later on. Removing outliers could be useful as it will reduce the variability in the data. If it's not useful for analysis / modelling we will use the data with the outliers included. This code block was obtained from stack exchange:"
   ]
  },
  {
   "cell_type": "code",
   "execution_count": 23,
   "id": "44ae1f40",
   "metadata": {},
   "outputs": [],
   "source": [
    "from scipy import stats\n",
    "df=df[(np.abs(stats.zscore(df)) < 3).all(axis=1)]"
   ]
  },
  {
   "cell_type": "markdown",
   "id": "411ff397",
   "metadata": {},
   "source": [
    "Let's split the dataset into 2 dataframes / arrays: one for the features and one for the target (Persistency_Flag_Persistent):"
   ]
  },
  {
   "cell_type": "code",
   "execution_count": 24,
   "id": "f7d4f80a",
   "metadata": {},
   "outputs": [],
   "source": [
    "#let the feature dataframe contain every column of df, except the value we are predicting,Persistency_Flag_Persistent\n",
    "X=df.loc[:,df.columns!=\"Persistency_Flag_Persistent\"]\n",
    "#let the target array contain only the value we are predicting, Persistency_Flag_Persistent\n",
    "# y=df.loc[:,df.columns==\"heart_disease\"].values.ravel()\n",
    "y=df.loc[:,df.columns==\"Persistency_Flag_Persistent\"].values.ravel()\n"
   ]
  },
  {
   "cell_type": "markdown",
   "id": "0eff56ae",
   "metadata": {},
   "source": [
    "There are many features in the X array:"
   ]
  },
  {
   "cell_type": "code",
   "execution_count": 25,
   "id": "07eb6b4e",
   "metadata": {},
   "outputs": [
    {
     "data": {
      "text/plain": [
       "(1215, 115)"
      ]
     },
     "execution_count": 25,
     "metadata": {},
     "output_type": "execute_result"
    }
   ],
   "source": [
    "X.shape"
   ]
  },
  {
   "cell_type": "markdown",
   "id": "b800326a",
   "metadata": {},
   "source": [
    "It seems sensible to reduce the number of variables for analysis / modelling, and to focus on important variables. We could do some dimensionality reduction, but we want to be able to understand the variables individually, so  let's choose the 6 best variables (we did some experimenting, not shown here, to come up with this number):"
   ]
  },
  {
   "cell_type": "code",
   "execution_count": 26,
   "id": "7a302878",
   "metadata": {},
   "outputs": [
    {
     "name": "stdout",
     "output_type": "stream",
     "text": [
      "The best predictors are Ptid , Dexa_During_Rx_Y , Comorb_Encounter_For_Immunization_Y , Comorb_Encntr_For_General_Exam_W_O_Complaint,_Susp_Or_Reprtd_Dx_Y , Comorb_Long_Term_Current_Drug_Therapy_Y , Concom_Viral_Vaccines_Y\n"
     ]
    }
   ],
   "source": [
    "from sklearn.feature_selection import SelectKBest,chi2\n",
    "\n",
    "k=6\n",
    "SKB = SelectKBest(chi2,k=k) #select the k best features\n",
    "SKB.fit_transform(X, y) #fit the data to SKB\n",
    "\n",
    "X_best_indices=SKB.get_support(indices=True) \n",
    "\n",
    "best_predictors=[None]*(k) #k best predictors\n",
    "for i in range(0,k):\n",
    "    best_predictors[i]=X.columns[X_best_indices[i]] #create list of names of best predictors\n",
    "       \n",
    "print('The best predictors are', \" , \".join(best_predictors))  #print names of best predictors \n",
    "\n",
    "X_new=X[best_predictors].copy() #use list to create new X dataframe"
   ]
  },
  {
   "cell_type": "markdown",
   "id": "ed7aa2ee",
   "metadata": {},
   "source": [
    "It is strange that the index, Ptid, is so useful for predicting."
   ]
  },
  {
   "cell_type": "code",
   "execution_count": 27,
   "id": "af98b6e5",
   "metadata": {},
   "outputs": [
    {
     "data": {
      "text/html": [
       "<div>\n",
       "<style scoped>\n",
       "    .dataframe tbody tr th:only-of-type {\n",
       "        vertical-align: middle;\n",
       "    }\n",
       "\n",
       "    .dataframe tbody tr th {\n",
       "        vertical-align: top;\n",
       "    }\n",
       "\n",
       "    .dataframe thead th {\n",
       "        text-align: right;\n",
       "    }\n",
       "</style>\n",
       "<table border=\"1\" class=\"dataframe\">\n",
       "  <thead>\n",
       "    <tr style=\"text-align: right;\">\n",
       "      <th></th>\n",
       "      <th>Ptid</th>\n",
       "      <th>Dexa_During_Rx_Y</th>\n",
       "      <th>Comorb_Encounter_For_Immunization_Y</th>\n",
       "      <th>Comorb_Encntr_For_General_Exam_W_O_Complaint,_Susp_Or_Reprtd_Dx_Y</th>\n",
       "      <th>Comorb_Long_Term_Current_Drug_Therapy_Y</th>\n",
       "      <th>Concom_Viral_Vaccines_Y</th>\n",
       "    </tr>\n",
       "  </thead>\n",
       "  <tbody>\n",
       "    <tr>\n",
       "      <th>3</th>\n",
       "      <td>4.0</td>\n",
       "      <td>0.0</td>\n",
       "      <td>1.0</td>\n",
       "      <td>1.0</td>\n",
       "      <td>0.0</td>\n",
       "      <td>1.0</td>\n",
       "    </tr>\n",
       "    <tr>\n",
       "      <th>4</th>\n",
       "      <td>5.0</td>\n",
       "      <td>0.0</td>\n",
       "      <td>1.0</td>\n",
       "      <td>1.0</td>\n",
       "      <td>0.0</td>\n",
       "      <td>0.0</td>\n",
       "    </tr>\n",
       "    <tr>\n",
       "      <th>5</th>\n",
       "      <td>6.0</td>\n",
       "      <td>0.0</td>\n",
       "      <td>0.0</td>\n",
       "      <td>0.0</td>\n",
       "      <td>0.0</td>\n",
       "      <td>0.0</td>\n",
       "    </tr>\n",
       "    <tr>\n",
       "      <th>7</th>\n",
       "      <td>8.0</td>\n",
       "      <td>0.0</td>\n",
       "      <td>0.0</td>\n",
       "      <td>0.0</td>\n",
       "      <td>0.0</td>\n",
       "      <td>0.0</td>\n",
       "    </tr>\n",
       "    <tr>\n",
       "      <th>8</th>\n",
       "      <td>9.0</td>\n",
       "      <td>0.0</td>\n",
       "      <td>0.0</td>\n",
       "      <td>0.0</td>\n",
       "      <td>0.0</td>\n",
       "      <td>0.0</td>\n",
       "    </tr>\n",
       "  </tbody>\n",
       "</table>\n",
       "</div>"
      ],
      "text/plain": [
       "   Ptid  Dexa_During_Rx_Y  Comorb_Encounter_For_Immunization_Y  \\\n",
       "3   4.0               0.0                                  1.0   \n",
       "4   5.0               0.0                                  1.0   \n",
       "5   6.0               0.0                                  0.0   \n",
       "7   8.0               0.0                                  0.0   \n",
       "8   9.0               0.0                                  0.0   \n",
       "\n",
       "   Comorb_Encntr_For_General_Exam_W_O_Complaint,_Susp_Or_Reprtd_Dx_Y  \\\n",
       "3                                                1.0                   \n",
       "4                                                1.0                   \n",
       "5                                                0.0                   \n",
       "7                                                0.0                   \n",
       "8                                                0.0                   \n",
       "\n",
       "   Comorb_Long_Term_Current_Drug_Therapy_Y  Concom_Viral_Vaccines_Y  \n",
       "3                                      0.0                      1.0  \n",
       "4                                      0.0                      0.0  \n",
       "5                                      0.0                      0.0  \n",
       "7                                      0.0                      0.0  \n",
       "8                                      0.0                      0.0  "
      ]
     },
     "execution_count": 27,
     "metadata": {},
     "output_type": "execute_result"
    }
   ],
   "source": [
    "X_new.head()"
   ]
  },
  {
   "cell_type": "code",
   "execution_count": 28,
   "id": "29b99b41",
   "metadata": {},
   "outputs": [
    {
     "data": {
      "text/plain": [
       "(1215, 6)"
      ]
     },
     "execution_count": 28,
     "metadata": {},
     "output_type": "execute_result"
    }
   ],
   "source": [
    "X_new.shape"
   ]
  },
  {
   "cell_type": "markdown",
   "id": "238e6e0b",
   "metadata": {},
   "source": [
    "The following is just a simple logistic regression, mainly for testing the quality of the data (I compared the data with outliers to the data without outliers, but I didn't show this in the notebook). I found that once I had removed the outliers, the model performed better, even with just 6 variables.  Increasing the number of best variables past this point didn't improve the accuracy."
   ]
  },
  {
   "cell_type": "code",
   "execution_count": 29,
   "id": "47552960",
   "metadata": {},
   "outputs": [],
   "source": [
    "from sklearn.model_selection import train_test_split\n",
    "from sklearn.preprocessing import MinMaxScaler,StandardScaler\n",
    "\n",
    "X_train, X_test, y_train, y_test=train_test_split(X_new,y,test_size=0.30,random_state=123)   "
   ]
  },
  {
   "cell_type": "code",
   "execution_count": 30,
   "id": "32aa8c3d",
   "metadata": {},
   "outputs": [],
   "source": [
    "from sklearn.linear_model import LogisticRegression\n",
    "from sklearn.metrics import accuracy_score, f1_score"
   ]
  },
  {
   "cell_type": "code",
   "execution_count": 31,
   "id": "465ff82d",
   "metadata": {},
   "outputs": [
    {
     "name": "stdout",
     "output_type": "stream",
     "text": [
      "0.7550883471259227\n",
      "0.8027397260273973\n"
     ]
    }
   ],
   "source": [
    "logreg=LogisticRegression(max_iter=1000000)\n",
    "logreg.fit(X_train,y_train)\n",
    "preds=logreg.predict(X_test)\n",
    "print(f1_score(y_test,preds, average='macro')) #use macro scoring since classes are imbalanced\n",
    "print(accuracy_score(y_test,preds)) "
   ]
  },
  {
   "cell_type": "markdown",
   "id": "52fef320",
   "metadata": {},
   "source": [
    "For other models / hyperparameters, increasing the number of features could be beneficial. In this example, the number of variables only marginally increased the accuracy after 3 variables (0.79 accuracy with 3 variables)."
   ]
  },
  {
   "cell_type": "code",
   "execution_count": null,
   "id": "d1f49a63",
   "metadata": {},
   "outputs": [],
   "source": []
  }
 ],
 "metadata": {
  "kernelspec": {
   "display_name": "Python 3 (ipykernel)",
   "language": "python",
   "name": "python3"
  },
  "language_info": {
   "codemirror_mode": {
    "name": "ipython",
    "version": 3
   },
   "file_extension": ".py",
   "mimetype": "text/x-python",
   "name": "python",
   "nbconvert_exporter": "python",
   "pygments_lexer": "ipython3",
   "version": "3.9.7"
  }
 },
 "nbformat": 4,
 "nbformat_minor": 5
}
